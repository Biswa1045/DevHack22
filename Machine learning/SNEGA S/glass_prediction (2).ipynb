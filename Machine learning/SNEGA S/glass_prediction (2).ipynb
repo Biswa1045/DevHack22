{
 "cells": [
  {
   "cell_type": "code",
   "execution_count": 1,
   "id": "6216f21e-f7a9-4bff-bfb7-27ac2d7c4237",
   "metadata": {},
   "outputs": [],
   "source": [
    "# GLASS PREDICTION USING MACHINE LEARNING"
   ]
  },
  {
   "cell_type": "code",
   "execution_count": null,
   "id": "1139934c-8986-445d-ac09-8dfcf89fba80",
   "metadata": {},
   "outputs": [],
   "source": [
    "import pandas as pd\n",
    "import numpy as np"
   ]
  },
  {
   "cell_type": "code",
   "execution_count": null,
   "id": "c5f4907a-a641-409c-997f-77ca41661a23",
   "metadata": {},
   "outputs": [],
   "source": [
    "# READ DATA FILE"
   ]
  },
  {
   "cell_type": "code",
   "execution_count": null,
   "id": "5610a688-793e-45c6-9ad5-b854cb7b9640",
   "metadata": {},
   "outputs": [],
   "source": [
    "df = pd.read_csv(\"glassdata.csv\")\n",
    "df.head()"
   ]
  },
  {
   "cell_type": "code",
   "execution_count": null,
   "id": "24a4815b-9336-42d4-b9e7-60949be2aeaf",
   "metadata": {},
   "outputs": [],
   "source": [
    "# NO.OF ROWS AND COLUMNS"
   ]
  },
  {
   "cell_type": "code",
   "execution_count": 11,
   "id": "4bdd619b-abfc-476b-a0b9-85bd68f39128",
   "metadata": {},
   "outputs": [
    {
     "data": {
      "text/plain": [
       "(214, 11)"
      ]
     },
     "execution_count": 11,
     "metadata": {},
     "output_type": "execute_result"
    }
   ],
   "source": [
    "df.shape"
   ]
  },
  {
   "cell_type": "code",
   "execution_count": null,
   "id": "48614ae6-b63d-4deb-96e7-c6a2c8aeac8f",
   "metadata": {},
   "outputs": [],
   "source": [
    "# CHECKING FOR NULL VALUES"
   ]
  },
  {
   "cell_type": "code",
   "execution_count": 12,
   "id": "038ba3e6-ab20-4133-9641-357e19ce345f",
   "metadata": {},
   "outputs": [
    {
     "data": {
      "text/plain": [
       "ID               0\n",
       "RI               0\n",
       "Na               0\n",
       "Mg               0\n",
       "Al               0\n",
       "Si               0\n",
       "K                0\n",
       "Ca               0\n",
       "Ba               0\n",
       "Fe               0\n",
       "Type of glass    0\n",
       "dtype: int64"
      ]
     },
     "execution_count": 12,
     "metadata": {},
     "output_type": "execute_result"
    }
   ],
   "source": [
    "df.isna().sum()"
   ]
  },
  {
   "cell_type": "code",
   "execution_count": null,
   "id": "806e1019-9bf0-4e45-90bf-5fe9a6aa0673",
   "metadata": {},
   "outputs": [],
   "source": [
    "# CHECKING FOR THE DEPENDENCY OF EACH FEATURE ON ANOTHER"
   ]
  },
  {
   "cell_type": "code",
   "execution_count": 17,
   "id": "74075d39-2e89-44ef-b59f-ebc3d03a5d9b",
   "metadata": {},
   "outputs": [],
   "source": [
    "correlation=df.corr()['Type of glass']"
   ]
  },
  {
   "cell_type": "code",
   "execution_count": 18,
   "id": "f99fb757-87a9-4b4b-880d-f75796304dd4",
   "metadata": {},
   "outputs": [
    {
     "data": {
      "text/plain": [
       "Type of glass    1.000000\n",
       "ID               0.877357\n",
       "Mg               0.744993\n",
       "Al               0.598829\n",
       "Ba               0.575161\n",
       "Na               0.502898\n",
       "Fe               0.188278\n",
       "RI               0.164237\n",
       "Si               0.151565\n",
       "K                0.010054\n",
       "Ca               0.000952\n",
       "Name: Type of glass, dtype: float64"
      ]
     },
     "execution_count": 18,
     "metadata": {},
     "output_type": "execute_result"
    }
   ],
   "source": [
    "correlation.abs().sort_values(ascending=False)"
   ]
  },
  {
   "cell_type": "code",
   "execution_count": null,
   "id": "af40eeda-a2d5-43b9-8dbc-c6cd5f117cdf",
   "metadata": {},
   "outputs": [],
   "source": [
    "# SEPERATING DEPENDENT AND INDEPENDENT VARIABLES"
   ]
  },
  {
   "cell_type": "code",
   "execution_count": 21,
   "id": "1a027774-4c9c-450c-903f-32f9e6b55c3c",
   "metadata": {},
   "outputs": [],
   "source": [
    "y=df['Type of glass']\n",
    "x=df.drop('Type of glass',axis=1)"
   ]
  },
  {
   "cell_type": "code",
   "execution_count": 22,
   "id": "38b36019-7b63-41c3-818e-4a913ffaef4f",
   "metadata": {},
   "outputs": [],
   "source": [
    "from sklearn.model_selection import train_test_split"
   ]
  },
  {
   "cell_type": "code",
   "execution_count": null,
   "id": "757d8970-2384-4ca2-98ec-c272e08d17d7",
   "metadata": {},
   "outputs": [],
   "source": [
    "# SPLITTING TRAIN AND TEST DATA"
   ]
  },
  {
   "cell_type": "code",
   "execution_count": 28,
   "id": "ce88e0b1-ea50-474c-9bce-8fc84cf19c30",
   "metadata": {},
   "outputs": [],
   "source": [
    "X_train,X_test,y_train,y_test=train_test_split(x,y,test_size=0.23,random_state=42)"
   ]
  },
  {
   "cell_type": "code",
   "execution_count": 40,
   "id": "8621174a-6364-47c1-bc2b-202b0097f27e",
   "metadata": {},
   "outputs": [
    {
     "name": "stdout",
     "output_type": "stream",
     "text": [
      "Collecting xgboost\n",
      "  Downloading xgboost-1.5.2-py3-none-manylinux2014_x86_64.whl (173.6 MB)\n",
      "     |████████████████████████████████| 173.6 MB 11 kB/s              ██████▏                     | 54.9 MB 83.8 MB/s eta 0:00:02\n",
      "\u001b[?25hRequirement already satisfied: scipy in /srv/conda/envs/notebook/lib/python3.7/site-packages (from xgboost) (1.7.1)\n",
      "Requirement already satisfied: numpy in /srv/conda/envs/notebook/lib/python3.7/site-packages (from xgboost) (1.21.5)\n",
      "Installing collected packages: xgboost\n",
      "Successfully installed xgboost-1.5.2\n",
      "Note: you may need to restart the kernel to use updated packages.\n"
     ]
    }
   ],
   "source": [
    "pip install xgboost"
   ]
  },
  {
   "cell_type": "code",
   "execution_count": 41,
   "id": "6b31cd6f-24e5-4c41-9ece-da17fdd2a9b6",
   "metadata": {},
   "outputs": [],
   "source": [
    "from sklearn.naive_bayes import GaussianNB\n",
    "from sklearn.neighbors import KNeighborsClassifier\n",
    "from sklearn.ensemble import RandomForestClassifier\n",
    "from sklearn.tree import DecisionTreeClassifier\n"
   ]
  },
  {
   "cell_type": "code",
   "execution_count": null,
   "id": "ed5684b2-fe91-44fb-aa69-8962be6a6fb6",
   "metadata": {},
   "outputs": [],
   "source": [
    "** USING DIFFERENT ALGORITHMS LIKE NAIVE BAYES, RANDOM FOREST,\n",
    "DECISION TREE, KNN TO PREDICT THE TARGET VALUE **"
   ]
  },
  {
   "cell_type": "code",
   "execution_count": 47,
   "id": "609778e8-c9fb-40d5-9ddf-43ef7228b469",
   "metadata": {},
   "outputs": [],
   "source": [
    "models=[]\n",
    "models.append(('Naive Bayes', GaussianNB()))\n",
    "models.append(('RandomForest', RandomForestClassifier()))\n",
    "models.append(('Decision Tree', DecisionTreeClassifier()))\n",
    "models.append(('KNN', KNeighborsClassifier()))\n"
   ]
  },
  {
   "cell_type": "code",
   "execution_count": 53,
   "id": "f51ecdd9-f8d2-42e9-bbc4-1898a6d23291",
   "metadata": {},
   "outputs": [],
   "source": [
    "import warnings\n",
    "warnings.filterwarnings(action='once')"
   ]
  },
  {
   "cell_type": "code",
   "execution_count": 54,
   "id": "4eee9efd-c054-4ea7-8639-1bd03016d351",
   "metadata": {},
   "outputs": [
    {
     "name": "stderr",
     "output_type": "stream",
     "text": [
      "/srv/conda/envs/notebook/lib/python3.7/site-packages/ipykernel/ipkernel.py:287: DeprecationWarning: `should_run_async` will not call `transform_cell` automatically in the future. Please pass the result to `transformed_cell` argument and any exception that happen during thetransform in `preprocessing_exc_tuple` in IPython 7.17 and above.\n",
      "  and should_run_async(code)\n",
      "/srv/conda/envs/notebook/lib/python3.7/site-packages/sklearn/ensemble/forest.py:489: DeprecationWarning: `np.int` is a deprecated alias for the builtin `int`. To silence this warning, use `int` by itself. Doing this will not modify any behavior and is safe. When replacing `np.int`, you may wish to use e.g. `np.int64` or `np.int32` to specify the precision. If you wish to review your current use, check the release note link for additional information.\n",
      "Deprecated in NumPy 1.20; for more details and guidance: https://numpy.org/devdocs/release/1.20.0-notes.html#deprecations\n",
      "  y_store_unique_indices = np.zeros(y.shape, dtype=np.int)\n",
      "/srv/conda/envs/notebook/lib/python3.7/site-packages/sklearn/tree/tree.py:163: DeprecationWarning: `np.int` is a deprecated alias for the builtin `int`. To silence this warning, use `int` by itself. Doing this will not modify any behavior and is safe. When replacing `np.int`, you may wish to use e.g. `np.int64` or `np.int32` to specify the precision. If you wish to review your current use, check the release note link for additional information.\n",
      "Deprecated in NumPy 1.20; for more details and guidance: https://numpy.org/devdocs/release/1.20.0-notes.html#deprecations\n",
      "  y_encoded = np.zeros(y.shape, dtype=np.int)\n",
      "/srv/conda/envs/notebook/lib/python3.7/site-packages/sklearn/ensemble/base.py:158: DeprecationWarning: `np.int` is a deprecated alias for the builtin `int`. To silence this warning, use `int` by itself. Doing this will not modify any behavior and is safe. When replacing `np.int`, you may wish to use e.g. `np.int64` or `np.int32` to specify the precision. If you wish to review your current use, check the release note link for additional information.\n",
      "Deprecated in NumPy 1.20; for more details and guidance: https://numpy.org/devdocs/release/1.20.0-notes.html#deprecations\n",
      "  dtype=np.int)\n",
      "/srv/conda/envs/notebook/lib/python3.7/site-packages/sklearn/tree/tree.py:163: DeprecationWarning: `np.int` is a deprecated alias for the builtin `int`. To silence this warning, use `int` by itself. Doing this will not modify any behavior and is safe. When replacing `np.int`, you may wish to use e.g. `np.int64` or `np.int32` to specify the precision. If you wish to review your current use, check the release note link for additional information.\n",
      "Deprecated in NumPy 1.20; for more details and guidance: https://numpy.org/devdocs/release/1.20.0-notes.html#deprecations\n",
      "  y_encoded = np.zeros(y.shape, dtype=np.int)\n",
      "/srv/conda/envs/notebook/lib/python3.7/site-packages/sklearn/neighbors/base.py:908: DeprecationWarning: `np.int` is a deprecated alias for the builtin `int`. To silence this warning, use `int` by itself. Doing this will not modify any behavior and is safe. When replacing `np.int`, you may wish to use e.g. `np.int64` or `np.int32` to specify the precision. If you wish to review your current use, check the release note link for additional information.\n",
      "Deprecated in NumPy 1.20; for more details and guidance: https://numpy.org/devdocs/release/1.20.0-notes.html#deprecations\n",
      "  self._y = np.empty(y.shape, dtype=np.int)\n",
      "/srv/conda/envs/notebook/lib/python3.7/site-packages/xgboost/sklearn.py:1224: UserWarning: The use of label encoder in XGBClassifier is deprecated and will be removed in a future release. To remove this warning, do the following: 1) Pass option use_label_encoder=False when constructing XGBClassifier object; and 2) Encode your labels (y) as integers starting with 0, i.e. 0, 1, 2, ..., [num_class - 1].\n",
      "  warnings.warn(label_encoder_deprecation_msg, UserWarning)\n"
     ]
    },
    {
     "name": "stdout",
     "output_type": "stream",
     "text": [
      "Naive Bayes\n",
      "[[10  6  0  0  0  0]\n",
      " [ 1 11  1  0  0  0]\n",
      " [ 0  3  3  0  0  0]\n",
      " [ 0  0  0  4  0  0]\n",
      " [ 0  0  0  0  2  0]\n",
      " [ 0  0  0  0  1  8]]\n",
      "\n",
      "\n",
      "0.76\n",
      "\n",
      "\n",
      "RandomForest\n",
      "[[11  0  0  0  0  0]\n",
      " [ 0 20  0  0  0  0]\n",
      " [ 0  0  4  0  0  0]\n",
      " [ 0  0  0  4  0  0]\n",
      " [ 0  0  0  0  3  0]\n",
      " [ 0  0  0  0  0  8]]\n",
      "\n",
      "\n",
      "1.0\n",
      "\n",
      "\n",
      "Decision Tree\n",
      "[[11  0  0  0  0  0]\n",
      " [ 0 20  0  0  0  0]\n",
      " [ 0  0  4  0  0  0]\n",
      " [ 0  0  0  4  0  0]\n",
      " [ 0  0  0  0  3  0]\n",
      " [ 0  0  0  0  0  8]]\n",
      "\n",
      "\n",
      "1.0\n",
      "\n",
      "\n",
      "KNN\n",
      "[[10  0  0  0  0  0]\n",
      " [ 1 20  0  0  0  0]\n",
      " [ 0  0  4  0  0  0]\n",
      " [ 0  0  0  3  0  0]\n",
      " [ 0  0  0  1  3  0]\n",
      " [ 0  0  0  0  0  8]]\n",
      "\n",
      "\n",
      "0.96\n",
      "\n",
      "\n",
     ]
    }
   ],
   "source": [
    "for name,model in models:\n",
    "    print(name)\n",
    "    model.fit(X_train,y_train)\n",
    "    predictions=model.predict(X_test)\n",
    "    from sklearn.metrics import confusion_matrix,accuracy_score\n",
    "    print(confusion_matrix(predictions,y_test))\n",
    "    print('\\n')\n",
    "    print(accuracy_score(predictions,y_test))\n",
    "    print('\\n')"
   ]
  },
  {
   "cell_type": "code",
   "execution_count": null,
   "id": "3973f93e-8e2b-4442-9c64-f154367dac3c",
   "metadata": {},
   "outputs": [],
   "source": [
    "# CONCLUSION:\n",
    "## Upon all algorithms **RandomForest** and **DecisionTree** gave almost 100% accuracy. \n",
    "## On cross validation the accuracy may vary between 98%-100%"
   ]
  },
  {
   "cell_type": "code",
   "execution_count": null,
   "id": "82099128-6553-4c71-ac27-12b86127f512",
   "metadata": {},
   "outputs": [],
   "source": []
  }
 ],
 "metadata": {
  "kernelspec": {
   "display_name": "Python 3",
   "language": "python",
   "name": "python3"
  },
  "language_info": {
   "codemirror_mode": {
    "name": "ipython",
    "version": 3
   },
   "file_extension": ".py",
   "mimetype": "text/x-python",
   "name": "python",
   "nbconvert_exporter": "python",
   "pygments_lexer": "ipython3",
   "version": "3.7.8"
  }
 },
 "nbformat": 4,
 "nbformat_minor": 5
}
